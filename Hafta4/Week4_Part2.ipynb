{
 "cells": [
  {
   "cell_type": "markdown",
   "metadata": {},
   "source": [
    "# The Battle of Neighborhoods | Data Description"
   ]
  },
  {
   "cell_type": "markdown",
   "metadata": {},
   "source": [
    "## Decription of the data:"
   ]
  },
  {
   "cell_type": "markdown",
   "metadata": {},
   "source": [
    "Link: https://en.wikipedia.org/wiki/List_of_postal_codes_of_Canada:_M"
   ]
  },
  {
   "cell_type": "markdown",
   "metadata": {},
   "source": [
    "We're going to use the Downtown Toronto dataset, which we scraped from Wikipedia in Week 3. Latitude and longitude, as well as zip codes, make up this dataset."
   ]
  },
  {
   "cell_type": "markdown",
   "metadata": {},
   "source": [
    "## Foursquare API:"
   ]
  },
  {
   "cell_type": "markdown",
   "metadata": {},
   "source": [
    "We'll require information on various venues throughout that borough's various neighbourhoods. We'll use \"Foursquare\" locational information to get that information. Foursquare is a location data provider that provides information about a variety of locations and activities in a given area. Names of venues, their locations, menus, and even images are examples of this type of information. As a result, the foursquare location platform will serve as the single data source, as the API provides access to all of the essential data."
   ]
  },
  {
   "cell_type": "markdown",
   "metadata": {},
   "source": [
    "We next connect to the Foursquare API to obtain information about venues inside each neighbourhood after finding the list of neighbourhoods. The radius for each neighbourhood has been set at 100 metres."
   ]
  },
  {
   "cell_type": "markdown",
   "metadata": {},
   "source": [
    "The Foursquare data comprised information on venues within a certain distance of the postcodes' longitude and latitude. The following is the information received for each venue:"
   ]
  },
  {
   "cell_type": "markdown",
   "metadata": {},
   "source": [
    "1. Name of the venue e.g. the name of a store or restaurant\n",
    "2. Neighborhood\n",
    "3. Neighborhood Latitude\n",
    "4. Neighborhood Longitude\n",
    "5. Venue\n",
    "6. Venue Category\n",
    "7. Venue Latitude\n",
    "8. Venue Longitude"
   ]
  },
  {
   "cell_type": "code",
   "execution_count": null,
   "metadata": {},
   "outputs": [],
   "source": []
  }
 ],
 "metadata": {
  "kernelspec": {
   "display_name": "Python 3",
   "language": "python",
   "name": "python3"
  },
  "language_info": {
   "codemirror_mode": {
    "name": "ipython",
    "version": 3
   },
   "file_extension": ".py",
   "mimetype": "text/x-python",
   "name": "python",
   "nbconvert_exporter": "python",
   "pygments_lexer": "ipython3",
   "version": "3.8.3"
  }
 },
 "nbformat": 4,
 "nbformat_minor": 4
}
