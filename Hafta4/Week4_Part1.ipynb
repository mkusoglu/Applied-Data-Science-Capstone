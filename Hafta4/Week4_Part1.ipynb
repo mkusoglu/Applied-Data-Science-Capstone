{
 "cells": [
  {
   "cell_type": "markdown",
   "metadata": {},
   "source": [
    "# The Battle of Neighborhoods | Business Problem"
   ]
  },
  {
   "cell_type": "markdown",
   "metadata": {},
   "source": [
    "## Introduction:"
   ]
  },
  {
   "cell_type": "markdown",
   "metadata": {},
   "source": [
    "The goal of this project is to assist people in discovering better amenities in their area. It will assist individuals in making informed and efficient decisions on which great neighbourhood to choose from among the many in Downtown Toronto, Toronto."
   ]
  },
  {
   "cell_type": "markdown",
   "metadata": {},
   "source": [
    "Many individuals are travelling to different parts of Canada, and they need to do a lot of research to find affordable housing and a place which is closer to their workplace. This project is for folks who want to live in a more desirable neighbourhood and near to IT companies. For easy access to cafes, schools, supermarkets, medical and food stores, malls, theatres, hospitals, and like-minded people, among other things."
   ]
  },
  {
   "cell_type": "markdown",
   "metadata": {},
   "source": [
    "This project aims to produce a feature analysis for people migrating to Downtown Toronto in order to find the best area by comparing communities. The features include median housing price and proximity to a nearby workplace based on ratings, local crime rates, road connectivity, weather conditions, emergency management, water resources (both fresh and waste water), sewage systems, and recreational amenities."
   ]
  },
  {
   "cell_type": "markdown",
   "metadata": {},
   "source": [
    "It will assist people in becoming familiar with the area and community before relocating to a new city, state, nation, or location for job or to begin a new life."
   ]
  },
  {
   "cell_type": "markdown",
   "metadata": {},
   "source": [
    "## Solution offered:"
   ]
  },
  {
   "cell_type": "markdown",
   "metadata": {},
   "source": [
    "The primary goal of this project is to recommend a better neighbourhood in a new city to those who are relocating there. Access to the airport, bus station, town centre, markets, and other necessities in the area."
   ]
  },
  {
   "cell_type": "markdown",
   "metadata": {},
   "source": [
    "1.) Sorted list of houses in ascending or descending order by housing prices. <br>\n",
    "2.) A list of IT Services that has been sorted by location, fees, rating, and reviews."
   ]
  },
  {
   "cell_type": "markdown",
   "metadata": {},
   "source": [
    "## Location:"
   ]
  },
  {
   "cell_type": "markdown",
   "metadata": {},
   "source": [
    "Downtown Toronto is the main central business district of Toronto, Ontario, Canada. It is also the home of the municipal government of Toronto and the Government of Ontario. The area is made up of Canada's largest concentration of skyscrapers and businesses that form Toronto's skyline."
   ]
  },
  {
   "cell_type": "markdown",
   "metadata": {},
   "source": [
    "## Foursquare API:"
   ]
  },
  {
   "cell_type": "markdown",
   "metadata": {},
   "source": [
    "This project would use the Four-square API as its primary data source because it contains a database of millions of locations, particularly their places API, which allows users to search for, share, and learn about businesses."
   ]
  },
  {
   "cell_type": "markdown",
   "metadata": {},
   "source": [
    "## Work Flow:"
   ]
  },
  {
   "cell_type": "markdown",
   "metadata": {},
   "source": [
    "The attributes of nearby sites in the neighbourhoods would be mined using Foursquare API credentials. Due to http request constraints, the radius parameter should be adjusted to 500 and the number of places per neighbourhood parameter should be set to 100."
   ]
  },
  {
   "cell_type": "markdown",
   "metadata": {},
   "source": [
    "## Clustering Approach:"
   ]
  },
  {
   "cell_type": "markdown",
   "metadata": {},
   "source": [
    "To examine the similarities of two cities, we opted to look for similar neighbourhoods in big cities like New York and Toronto by exploring neighbourhoods, segmenting them, and grouping them into clusters. To do so, we must cluster data using the k-means clustering algorithm, which is a type of unsupervised machine learning."
   ]
  },
  {
   "cell_type": "markdown",
   "metadata": {},
   "source": [
    "## The following libraries were used to develop the project:"
   ]
  },
  {
   "cell_type": "markdown",
   "metadata": {},
   "source": [
    "- Requests: Library to handle HTTP requests.\n",
    "\n",
    "- Beautiful Soup: Library to parse HTML and XML documents.\n",
    "\n",
    "- JSON: Library to handle JSON files.\n",
    "\n",
    "- XML: To separate data from presentation and XML stores data in plain text format.\n",
    "\n",
    "- Pandas: For creating and manipulating dataframes.\n",
    "\n",
    "- Geocoder: To retrieve Location Data.\n",
    "\n",
    "- Matplotlib: Python Plotting Module.\n",
    "\n",
    "- Folium: Python visualization library would be used to visualize the neighborhoods cluster distribution of using interactive leaflet map.\n",
    "\n",
    "- Scikit Learn: For importing k-means clustering."
   ]
  },
  {
   "cell_type": "code",
   "execution_count": null,
   "metadata": {},
   "outputs": [],
   "source": []
  }
 ],
 "metadata": {
  "kernelspec": {
   "display_name": "Python 3",
   "language": "python",
   "name": "python3"
  },
  "language_info": {
   "codemirror_mode": {
    "name": "ipython",
    "version": 3
   },
   "file_extension": ".py",
   "mimetype": "text/x-python",
   "name": "python",
   "nbconvert_exporter": "python",
   "pygments_lexer": "ipython3",
   "version": "3.8.3"
  }
 },
 "nbformat": 4,
 "nbformat_minor": 4
}
